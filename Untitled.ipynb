{
 "cells": [
  {
   "cell_type": "code",
   "execution_count": 1,
   "metadata": {
    "collapsed": false
   },
   "outputs": [
    {
     "name": "stdout",
     "output_type": "stream",
     "text": [
      "Populating the interactive namespace from numpy and matplotlib\n"
     ]
    }
   ],
   "source": [
    "import json\n",
    "import urllib2\n",
    "import pandas as pd\n",
    "import numpy as np\n",
    "from dateutil import parser\n",
    "import dateutil\n",
    "import pylab as pl\n",
    "%pylab inline"
   ]
  },
  {
   "cell_type": "code",
   "execution_count": 2,
   "metadata": {
    "collapsed": true
   },
   "outputs": [],
   "source": [
    "# Relevant link\n",
    "url = 'http://api.erg.kcl.ac.uk/AirQuality/Information/MonitoringSites/GroupName=London/Json'\n",
    "req = urllib2.urlopen(url)\n",
    "info = json.loads(req.read())\n"
   ]
  },
  {
   "cell_type": "code",
   "execution_count": 3,
   "metadata": {
    "collapsed": false
   },
   "outputs": [],
   "source": [
    "#info"
   ]
  },
  {
   "cell_type": "code",
   "execution_count": 4,
   "metadata": {
    "collapsed": true
   },
   "outputs": [],
   "source": [
    "sites = {}\n",
    "for i in info['Sites']['Site']:\n",
    "    m = i['@SiteCode']\n",
    "    sites[m] = (i['@Latitude'],i['@Longitude'],i['@SiteName'])\n",
    "data_sites = pd.DataFrame(sites).T\n",
    "data_sites = data_sites.reset_index()\n",
    "data_sites.columns = ['Station','Latitude','Longitude','StationName']"
   ]
  },
  {
   "cell_type": "code",
   "execution_count": 5,
   "metadata": {
    "collapsed": false
   },
   "outputs": [],
   "source": [
    "#data_sites.head()"
   ]
  },
  {
   "cell_type": "code",
   "execution_count": 6,
   "metadata": {
    "collapsed": true
   },
   "outputs": [],
   "source": [
    "inproximity = ['Westminster - Oxford Street',\n",
    "'Westminster - Marylebone Road FDMS',\n",
    "'Westminster - Marylebone Road',\n",
    "'Camden - Shaftesbury Avenue',\n",
    "'Westminster - Strand (Northbank BID)',\n",
    "'Camden - Holborn (inmidtown)',\n",
    "'Camden - Bloomsbury',\n",
    "'Camden - Euston Road']"
   ]
  },
  {
   "cell_type": "code",
   "execution_count": 7,
   "metadata": {
    "collapsed": true
   },
   "outputs": [],
   "source": [
    "ofinterest = []\n",
    "for i,l in enumerate(data_sites['StationName']):\n",
    "    if l in inproximity:\n",
    "        ofinterest.append(data_sites['Station'][i])"
   ]
  },
  {
   "cell_type": "code",
   "execution_count": 8,
   "metadata": {
    "collapsed": false
   },
   "outputs": [
    {
     "data": {
      "text/plain": [
       "[u'BL0', u'CD3', u'CD9', u'IM1', u'MY1', u'MY7', u'NB1', u'WM6']"
      ]
     },
     "execution_count": 8,
     "metadata": {},
     "output_type": "execute_result"
    }
   ],
   "source": [
    "ofinterest"
   ]
  },
  {
   "cell_type": "markdown",
   "metadata": {},
   "source": [
    "BL0 - Westminster - Oxford Street\n",
    "\n",
    "CD3 - Westminster - Marylebone Road FDMS\n",
    "\n",
    "MY1 - Westminster - Strand (Northbank BID)"
   ]
  },
  {
   "cell_type": "code",
   "execution_count": 9,
   "metadata": {
    "collapsed": true
   },
   "outputs": [],
   "source": [
    "\n",
    "pollution = {}\n",
    "for i in ofinterest:\n",
    "    url = 'http://api.erg.kcl.ac.uk/AirQuality/Data/SiteSpecies/SiteCode=%s/SpeciesCode=NO2/StartDate=25Nov2006/EndDate=09Dec2006/Json'%(i)\n",
    "    req = urllib2.urlopen(url)\n",
    "    info_species = json.loads(req.read())\n",
    "    x = pd.DataFrame(info_species['RawAQData']['Data'])\n",
    "    x['@Value'] = x['@Value'].apply(lambda x: x.encode('utf-8'))\n",
    "    x['@Value'] = np.where(x['@Value']=='',np.nan,x['@Value'])\n",
    "    x['@Value'] = x['@Value'].astype(float)\n",
    "    x['Date'] = x['@MeasurementDateGMT'].apply(lambda x: dateutil.parser.parse(x.encode('utf-8')).date())\n",
    "    pollution[i] = pd.DataFrame({'Mean':x.groupby('Date',axis=0)['@Value'].mean(),\n",
    "                            'Std':x.groupby('Date',axis=0)['@Value'].std()}).reset_index()\n"
   ]
  },
  {
   "cell_type": "code",
   "execution_count": 10,
   "metadata": {
    "collapsed": false
   },
   "outputs": [],
   "source": [
    "#x.head()"
   ]
  },
  {
   "cell_type": "code",
   "execution_count": 11,
   "metadata": {
    "collapsed": false
   },
   "outputs": [],
   "source": [
    "#data_sites.head()"
   ]
  },
  {
   "cell_type": "code",
   "execution_count": 12,
   "metadata": {
    "collapsed": false
   },
   "outputs": [
    {
     "data": {
      "text/html": [
       "<div>\n",
       "<table border=\"1\" class=\"dataframe\">\n",
       "  <thead>\n",
       "    <tr style=\"text-align: right;\">\n",
       "      <th></th>\n",
       "      <th>Date</th>\n",
       "      <th>Mean</th>\n",
       "      <th>Std</th>\n",
       "    </tr>\n",
       "  </thead>\n",
       "  <tbody>\n",
       "    <tr>\n",
       "      <th>0</th>\n",
       "      <td>2006-11-25</td>\n",
       "      <td>59.595833</td>\n",
       "      <td>24.219207</td>\n",
       "    </tr>\n",
       "    <tr>\n",
       "      <th>1</th>\n",
       "      <td>2006-11-26</td>\n",
       "      <td>53.633333</td>\n",
       "      <td>14.068147</td>\n",
       "    </tr>\n",
       "    <tr>\n",
       "      <th>2</th>\n",
       "      <td>2006-11-27</td>\n",
       "      <td>55.020833</td>\n",
       "      <td>18.931684</td>\n",
       "    </tr>\n",
       "    <tr>\n",
       "      <th>3</th>\n",
       "      <td>2006-11-28</td>\n",
       "      <td>76.737500</td>\n",
       "      <td>25.485184</td>\n",
       "    </tr>\n",
       "    <tr>\n",
       "      <th>4</th>\n",
       "      <td>2006-11-29</td>\n",
       "      <td>82.158333</td>\n",
       "      <td>19.823129</td>\n",
       "    </tr>\n",
       "    <tr>\n",
       "      <th>5</th>\n",
       "      <td>2006-11-30</td>\n",
       "      <td>63.508333</td>\n",
       "      <td>15.962290</td>\n",
       "    </tr>\n",
       "    <tr>\n",
       "      <th>6</th>\n",
       "      <td>2006-12-01</td>\n",
       "      <td>58.050000</td>\n",
       "      <td>13.625871</td>\n",
       "    </tr>\n",
       "    <tr>\n",
       "      <th>7</th>\n",
       "      <td>2006-12-02</td>\n",
       "      <td>71.129167</td>\n",
       "      <td>11.983666</td>\n",
       "    </tr>\n",
       "    <tr>\n",
       "      <th>8</th>\n",
       "      <td>2006-12-03</td>\n",
       "      <td>41.762500</td>\n",
       "      <td>12.413450</td>\n",
       "    </tr>\n",
       "    <tr>\n",
       "      <th>9</th>\n",
       "      <td>2006-12-04</td>\n",
       "      <td>65.708333</td>\n",
       "      <td>20.837131</td>\n",
       "    </tr>\n",
       "    <tr>\n",
       "      <th>10</th>\n",
       "      <td>2006-12-05</td>\n",
       "      <td>63.208333</td>\n",
       "      <td>23.995687</td>\n",
       "    </tr>\n",
       "    <tr>\n",
       "      <th>11</th>\n",
       "      <td>2006-12-06</td>\n",
       "      <td>69.878261</td>\n",
       "      <td>22.216250</td>\n",
       "    </tr>\n",
       "    <tr>\n",
       "      <th>12</th>\n",
       "      <td>2006-12-07</td>\n",
       "      <td>64.791667</td>\n",
       "      <td>23.744453</td>\n",
       "    </tr>\n",
       "    <tr>\n",
       "      <th>13</th>\n",
       "      <td>2006-12-08</td>\n",
       "      <td>81.386957</td>\n",
       "      <td>22.271798</td>\n",
       "    </tr>\n",
       "  </tbody>\n",
       "</table>\n",
       "</div>"
      ],
      "text/plain": [
       "          Date       Mean        Std\n",
       "0   2006-11-25  59.595833  24.219207\n",
       "1   2006-11-26  53.633333  14.068147\n",
       "2   2006-11-27  55.020833  18.931684\n",
       "3   2006-11-28  76.737500  25.485184\n",
       "4   2006-11-29  82.158333  19.823129\n",
       "5   2006-11-30  63.508333  15.962290\n",
       "6   2006-12-01  58.050000  13.625871\n",
       "7   2006-12-02  71.129167  11.983666\n",
       "8   2006-12-03  41.762500  12.413450\n",
       "9   2006-12-04  65.708333  20.837131\n",
       "10  2006-12-05  63.208333  23.995687\n",
       "11  2006-12-06  69.878261  22.216250\n",
       "12  2006-12-07  64.791667  23.744453\n",
       "13  2006-12-08  81.386957  22.271798"
      ]
     },
     "execution_count": 12,
     "metadata": {},
     "output_type": "execute_result"
    }
   ],
   "source": [
    "pollution['CD3']"
   ]
  },
  {
   "cell_type": "code",
   "execution_count": 13,
   "metadata": {
    "collapsed": false
   },
   "outputs": [],
   "source": [
    "pollution['CD3']['Westminster_Marylebone_Rd_Mean'] = pollution['CD3']['Mean'] \n",
    "pollution['BL0']['Westminster_Oxford_St_Mean'] = pollution['BL0']['Mean']\n",
    "pollution['MY1']['Westminster_Strand_Mean'] = pollution['MY1']['Mean'] \n",
    "#pollution['CD9']['CD9Mean'] = pollution['CD9']['Mean'] \n",
    "#pollution['IM1']['IM1Mean'] = pollution['IM1']['Mean'] \n",
    "#pollution['MY7']['MY7Mean'] = pollution['MY7']['Mean'] \n",
    "#pollution['NB1']['NB1Mean'] = pollution['NB1']['Mean'] \n",
    "#pollution['WM6']['WM6Mean'] = pollution['WM6']['Mean'] "
   ]
  },
  {
   "cell_type": "markdown",
   "metadata": {},
   "source": [
    "BL0 - Westminster - Oxford Street\n",
    "\n",
    "CD3 - Westminster - Marylebone Road FDMS\n",
    "\n",
    "MY1 - Westminster - Strand (Northbank BID)"
   ]
  },
  {
   "cell_type": "code",
   "execution_count": 14,
   "metadata": {
    "collapsed": true
   },
   "outputs": [],
   "source": [
    "del pollution['CD3']['Mean'] \n",
    "del pollution['CD3']['Std'] "
   ]
  },
  {
   "cell_type": "code",
   "execution_count": 15,
   "metadata": {
    "collapsed": false
   },
   "outputs": [],
   "source": [
    "del pollution['BL0']['Mean']\n",
    "del pollution['BL0']['Std']\n",
    "del pollution['CD9']['Mean']\n",
    "del pollution['CD9']['Std']\n",
    "del pollution['IM1']['Mean']\n",
    "del pollution['IM1']['Std']\n",
    "del pollution['MY1']['Mean']\n",
    "del pollution['MY1']['Std']\n",
    "del pollution['MY7']['Mean']\n",
    "del pollution['MY7']['Std']\n",
    "del pollution['NB1']['Mean']\n",
    "del pollution['NB1']['Std']\n",
    "del pollution['WM6']['Mean']\n",
    "del pollution['WM6']['Std']"
   ]
  },
  {
   "cell_type": "code",
   "execution_count": 16,
   "metadata": {
    "collapsed": true
   },
   "outputs": [],
   "source": [
    "pollutionmerge = pd.merge (pollution['CD3'],pollution['BL0'],  how='right', on=['Date'])"
   ]
  },
  {
   "cell_type": "code",
   "execution_count": 17,
   "metadata": {
    "collapsed": false
   },
   "outputs": [],
   "source": [
    "pollutionmerge = pd.merge (pollutionmerge,pollution['MY1'],  how='right', on=['Date'])\n"
   ]
  },
  {
   "cell_type": "code",
   "execution_count": 18,
   "metadata": {
    "collapsed": false
   },
   "outputs": [
    {
     "data": {
      "text/html": [
       "<div>\n",
       "<table border=\"1\" class=\"dataframe\">\n",
       "  <thead>\n",
       "    <tr style=\"text-align: right;\">\n",
       "      <th></th>\n",
       "      <th>Date</th>\n",
       "      <th>Westminster_Marylebone_Rd_Mean</th>\n",
       "      <th>Westminster_Oxford_St_Mean</th>\n",
       "      <th>Westminster_Strand_Mean</th>\n",
       "    </tr>\n",
       "  </thead>\n",
       "  <tbody>\n",
       "    <tr>\n",
       "      <th>0</th>\n",
       "      <td>2006-11-25</td>\n",
       "      <td>59.595833</td>\n",
       "      <td>38.665217</td>\n",
       "      <td>126.262500</td>\n",
       "    </tr>\n",
       "    <tr>\n",
       "      <th>1</th>\n",
       "      <td>2006-11-26</td>\n",
       "      <td>53.633333</td>\n",
       "      <td>40.700000</td>\n",
       "      <td>122.258333</td>\n",
       "    </tr>\n",
       "    <tr>\n",
       "      <th>2</th>\n",
       "      <td>2006-11-27</td>\n",
       "      <td>55.020833</td>\n",
       "      <td>41.091304</td>\n",
       "      <td>129.241667</td>\n",
       "    </tr>\n",
       "    <tr>\n",
       "      <th>3</th>\n",
       "      <td>2006-11-28</td>\n",
       "      <td>76.737500</td>\n",
       "      <td>57.034783</td>\n",
       "      <td>171.012500</td>\n",
       "    </tr>\n",
       "    <tr>\n",
       "      <th>4</th>\n",
       "      <td>2006-11-29</td>\n",
       "      <td>82.158333</td>\n",
       "      <td>57.965217</td>\n",
       "      <td>185.769565</td>\n",
       "    </tr>\n",
       "    <tr>\n",
       "      <th>5</th>\n",
       "      <td>2006-11-30</td>\n",
       "      <td>63.508333</td>\n",
       "      <td>45.478261</td>\n",
       "      <td>155.441667</td>\n",
       "    </tr>\n",
       "    <tr>\n",
       "      <th>6</th>\n",
       "      <td>2006-12-01</td>\n",
       "      <td>58.050000</td>\n",
       "      <td>43.191667</td>\n",
       "      <td>132.916667</td>\n",
       "    </tr>\n",
       "    <tr>\n",
       "      <th>7</th>\n",
       "      <td>2006-12-02</td>\n",
       "      <td>71.129167</td>\n",
       "      <td>51.850000</td>\n",
       "      <td>141.383333</td>\n",
       "    </tr>\n",
       "    <tr>\n",
       "      <th>8</th>\n",
       "      <td>2006-12-03</td>\n",
       "      <td>41.762500</td>\n",
       "      <td>21.187500</td>\n",
       "      <td>105.212500</td>\n",
       "    </tr>\n",
       "    <tr>\n",
       "      <th>9</th>\n",
       "      <td>2006-12-04</td>\n",
       "      <td>65.708333</td>\n",
       "      <td>34.300000</td>\n",
       "      <td>150.675000</td>\n",
       "    </tr>\n",
       "    <tr>\n",
       "      <th>10</th>\n",
       "      <td>2006-12-05</td>\n",
       "      <td>63.208333</td>\n",
       "      <td>26.779167</td>\n",
       "      <td>143.950000</td>\n",
       "    </tr>\n",
       "    <tr>\n",
       "      <th>11</th>\n",
       "      <td>2006-12-06</td>\n",
       "      <td>69.878261</td>\n",
       "      <td>49.600000</td>\n",
       "      <td>179.662500</td>\n",
       "    </tr>\n",
       "    <tr>\n",
       "      <th>12</th>\n",
       "      <td>2006-12-07</td>\n",
       "      <td>64.791667</td>\n",
       "      <td>36.204348</td>\n",
       "      <td>154.608333</td>\n",
       "    </tr>\n",
       "    <tr>\n",
       "      <th>13</th>\n",
       "      <td>2006-12-08</td>\n",
       "      <td>81.386957</td>\n",
       "      <td>74.883333</td>\n",
       "      <td>136.029167</td>\n",
       "    </tr>\n",
       "  </tbody>\n",
       "</table>\n",
       "</div>"
      ],
      "text/plain": [
       "          Date  Westminster_Marylebone_Rd_Mean  Westminster_Oxford_St_Mean  \\\n",
       "0   2006-11-25                       59.595833                   38.665217   \n",
       "1   2006-11-26                       53.633333                   40.700000   \n",
       "2   2006-11-27                       55.020833                   41.091304   \n",
       "3   2006-11-28                       76.737500                   57.034783   \n",
       "4   2006-11-29                       82.158333                   57.965217   \n",
       "5   2006-11-30                       63.508333                   45.478261   \n",
       "6   2006-12-01                       58.050000                   43.191667   \n",
       "7   2006-12-02                       71.129167                   51.850000   \n",
       "8   2006-12-03                       41.762500                   21.187500   \n",
       "9   2006-12-04                       65.708333                   34.300000   \n",
       "10  2006-12-05                       63.208333                   26.779167   \n",
       "11  2006-12-06                       69.878261                   49.600000   \n",
       "12  2006-12-07                       64.791667                   36.204348   \n",
       "13  2006-12-08                       81.386957                   74.883333   \n",
       "\n",
       "    Westminster_Strand_Mean  \n",
       "0                126.262500  \n",
       "1                122.258333  \n",
       "2                129.241667  \n",
       "3                171.012500  \n",
       "4                185.769565  \n",
       "5                155.441667  \n",
       "6                132.916667  \n",
       "7                141.383333  \n",
       "8                105.212500  \n",
       "9                150.675000  \n",
       "10               143.950000  \n",
       "11               179.662500  \n",
       "12               154.608333  \n",
       "13               136.029167  "
      ]
     },
     "execution_count": 18,
     "metadata": {},
     "output_type": "execute_result"
    }
   ],
   "source": [
    "pollutionmerge "
   ]
  },
  {
   "cell_type": "code",
   "execution_count": 19,
   "metadata": {
    "collapsed": false
   },
   "outputs": [
    {
     "data": {
      "text/plain": [
       "<matplotlib.axes._subplots.AxesSubplot at 0x10aae6510>"
      ]
     },
     "execution_count": 19,
     "metadata": {},
     "output_type": "execute_result"
    },
    {
     "data": {
      "image/png": "[encoded data removed]",
      "text/plain": [
       "<matplotlib.figure.Figure at 0x10ab2f590>"
      ]
     },
     "metadata": {},
     "output_type": "display_data"
    }
   ],
   "source": [
    "pollutionmerge.plot(figsize=(10,6))\n"
   ]
  },
  {
   "cell_type": "code",
   "execution_count": null,
   "metadata": {
    "collapsed": true
   },
   "outputs": [],
   "source": [
    " import matplotlib.pyplot as plt"
   ]
  },
  {
   "cell_type": "code",
   "execution_count": null,
   "metadata": {
    "collapsed": false
   },
   "outputs": [],
   "source": [
    "\n",
    "\n",
    "pollution['BL0'].plot(subplots=True, figsize=(6, 6)); plt.legend(loc='best')\n",
    "pl.title(\"BLO\")"
   ]
  },
  {
   "cell_type": "code",
   "execution_count": null,
   "metadata": {
    "collapsed": false
   },
   "outputs": [],
   "source": [
    "pollution['CD3'].plot(subplots=True, figsize=(6, 6)); plt.legend(loc='best')\n",
    "pl.title(\"CD3\")"
   ]
  },
  {
   "cell_type": "code",
   "execution_count": null,
   "metadata": {
    "collapsed": false
   },
   "outputs": [],
   "source": [
    "for i in pollution[i]:\n",
    "        pollution[i].plot(subplots=True, figsize=(6, 6)); plt.legend(loc='best')\n",
    "        pl.title(\"CD3\")\n",
    "    "
   ]
  },
  {
   "cell_type": "code",
   "execution_count": null,
   "metadata": {
    "collapsed": true
   },
   "outputs": [],
   "source": []
  }
 ],
 "metadata": {
  "kernelspec": {
   "display_name": "Python 2",
   "language": "python",
   "name": "python2"
  },
  "language_info": {
   "codemirror_mode": {
    "name": "ipython",
    "version": 2
   },
   "file_extension": ".py",
   "mimetype": "text/x-python",
   "name": "python",
   "nbconvert_exporter": "python",
   "pygments_lexer": "ipython2",
   "version": "2.7.10"
  }
 },
 "nbformat": 4,
 "nbformat_minor": 0
}
