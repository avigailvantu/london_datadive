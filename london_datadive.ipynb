{
 "cells": [
  {
   "cell_type": "code",
   "execution_count": 5,
   "metadata": {
    "collapsed": false
   },
   "outputs": [],
   "source": [
    "import pandas as pd\n",
    "import matplotlib.pyplot as plt\n",
    "import numpy as np"
   ]
  },
  {
   "cell_type": "code",
   "execution_count": 32,
   "metadata": {
    "collapsed": false
   },
   "outputs": [],
   "source": [
    "nox15 = pd.read_csv('nox_2015.csv')"
   ]
  },
  {
   "cell_type": "code",
   "execution_count": 12,
   "metadata": {
    "collapsed": true
   },
   "outputs": [],
   "source": [
    "carv = pd.read_csv('CarVolume.csv')"
   ]
  },
  {
   "cell_type": "code",
   "execution_count": 10,
   "metadata": {
    "collapsed": false
   },
   "outputs": [
    {
     "data": {
      "text/plain": [
       "87996"
      ]
     },
     "execution_count": 10,
     "metadata": {},
     "output_type": "execute_result"
    }
   ],
   "source": [
    "len(nox)"
   ]
  },
  {
   "cell_type": "code",
   "execution_count": 16,
   "metadata": {
    "collapsed": false
   },
   "outputs": [
    {
     "data": {
      "text/plain": [
       "27487"
      ]
     },
     "execution_count": 16,
     "metadata": {},
     "output_type": "execute_result"
    }
   ],
   "source": [
    "len(carv)"
   ]
  },
  {
   "cell_type": "code",
   "execution_count": 33,
   "metadata": {
    "collapsed": false
   },
   "outputs": [
    {
     "data": {
      "text/plain": [
       "Index([u'Unnamed: 0', u'Class', u'Sector', u'Source', u'Emissions', u'Year',\n",
       "       u'Pollutant', u'GRID_ID', u'GRID_ExactCut_ID', u'FeatureClass_ID',\n",
       "       u'FeatureClass', u'Motorcycle', u'Taxi', u'Car', u'PetrolCar',\n",
       "       u'DieselCar', u'Lgv', u'PetrolLgv', u'DieselLgv', u'BusAndCoach',\n",
       "       u'LTBus', u'Coach', u'Rigid', u'Artic', u'Unit', u'REFERENCES_',\n",
       "       u'X_COORD', u'Y_COORD', u'GRID_ExactCut_Area',\n",
       "       u'GRID_ExactCut_AreaRound', u'BoroughName_GRID',\n",
       "       u'BoroughName_ExactCut', u'Location_GRID', u'Location_ExactCut',\n",
       "       u'FeatureClass_ID_2'],\n",
       "      dtype='object')"
      ]
     },
     "execution_count": 33,
     "metadata": {},
     "output_type": "execute_result"
    }
   ],
   "source": [
    "nox15.columns"
   ]
  },
  {
   "cell_type": "code",
   "execution_count": 13,
   "metadata": {
    "collapsed": false
   },
   "outputs": [
    {
     "data": {
      "text/plain": [
       "Index([u'Year', u'CP', u'Region', u'LocalAuthority', u'Road', u'RoadCategory',\n",
       "       u'Easting', u'Northing', u'StartJunction', u'EndJunction',\n",
       "       u'LinkLength_miles', u'PedalCycles', u'Motorcycles', u'CarsTaxis',\n",
       "       u'BusesCoaches', u'LightGoodsVehicles', u'V2AxleRigidHGV',\n",
       "       u'V3AxleRigidHGV', u'V4or5AxleRigidHGV', u'V3or4AxleArticHGV',\n",
       "       u'V5AxleArticHGV', u'V6orMoreAxleArticHGV', u'AllHGVs',\n",
       "       u'AllMotorVehicles'],\n",
       "      dtype='object')"
      ]
     },
     "execution_count": 13,
     "metadata": {},
     "output_type": "execute_result"
    }
   ],
   "source": [
    "carv.columns"
   ]
  },
  {
   "cell_type": "code",
   "execution_count": 34,
   "metadata": {
    "collapsed": false
   },
   "outputs": [
    {
     "data": {
      "text/html": [
       "<div>\n",
       "<table border=\"1\" class=\"dataframe\">\n",
       "  <thead>\n",
       "    <tr style=\"text-align: right;\">\n",
       "      <th></th>\n",
       "      <th>Unnamed: 0</th>\n",
       "      <th>Class</th>\n",
       "      <th>Sector</th>\n",
       "      <th>Source</th>\n",
       "      <th>Emissions</th>\n",
       "      <th>Year</th>\n",
       "      <th>Pollutant</th>\n",
       "      <th>GRID_ID</th>\n",
       "      <th>GRID_ExactCut_ID</th>\n",
       "      <th>FeatureClass_ID</th>\n",
       "      <th>...</th>\n",
       "      <th>REFERENCES_</th>\n",
       "      <th>X_COORD</th>\n",
       "      <th>Y_COORD</th>\n",
       "      <th>GRID_ExactCut_Area</th>\n",
       "      <th>GRID_ExactCut_AreaRound</th>\n",
       "      <th>BoroughName_GRID</th>\n",
       "      <th>BoroughName_ExactCut</th>\n",
       "      <th>Location_GRID</th>\n",
       "      <th>Location_ExactCut</th>\n",
       "      <th>FeatureClass_ID_2</th>\n",
       "    </tr>\n",
       "  </thead>\n",
       "  <tbody>\n",
       "    <tr>\n",
       "      <th>0</th>\n",
       "      <td>1</td>\n",
       "      <td>Mobile</td>\n",
       "      <td>RoadTransport</td>\n",
       "      <td>MajorRoadEmissions</td>\n",
       "      <td>COPERT</td>\n",
       "      <td>2015</td>\n",
       "      <td>NOx</td>\n",
       "      <td>9362</td>\n",
       "      <td>2828</td>\n",
       "      <td>4000000030329011</td>\n",
       "      <td>...</td>\n",
       "      <td>TQ2283</td>\n",
       "      <td>522500</td>\n",
       "      <td>183500</td>\n",
       "      <td>0.996657</td>\n",
       "      <td>0.99</td>\n",
       "      <td>Brent</td>\n",
       "      <td>Brent</td>\n",
       "      <td>Outer</td>\n",
       "      <td>Outer</td>\n",
       "      <td>TOID4000000030329011</td>\n",
       "    </tr>\n",
       "    <tr>\n",
       "      <th>1</th>\n",
       "      <td>2</td>\n",
       "      <td>Mobile</td>\n",
       "      <td>RoadTransport</td>\n",
       "      <td>MajorRoadEmissions</td>\n",
       "      <td>COPERT</td>\n",
       "      <td>2015</td>\n",
       "      <td>NOx</td>\n",
       "      <td>9364</td>\n",
       "      <td>2830</td>\n",
       "      <td>4000000030455270</td>\n",
       "      <td>...</td>\n",
       "      <td>TQ2483</td>\n",
       "      <td>524500</td>\n",
       "      <td>183500</td>\n",
       "      <td>0.955921</td>\n",
       "      <td>0.96</td>\n",
       "      <td>Brent</td>\n",
       "      <td>Brent</td>\n",
       "      <td>Outer</td>\n",
       "      <td>Outer</td>\n",
       "      <td>TOID4000000030455270</td>\n",
       "    </tr>\n",
       "    <tr>\n",
       "      <th>2</th>\n",
       "      <td>3</td>\n",
       "      <td>Mobile</td>\n",
       "      <td>RoadTransport</td>\n",
       "      <td>MajorRoadEmissions</td>\n",
       "      <td>COPERT</td>\n",
       "      <td>2015</td>\n",
       "      <td>NOx</td>\n",
       "      <td>9191</td>\n",
       "      <td>772</td>\n",
       "      <td>4000000030976110</td>\n",
       "      <td>...</td>\n",
       "      <td>TQ2384</td>\n",
       "      <td>523500</td>\n",
       "      <td>184500</td>\n",
       "      <td>0.996860</td>\n",
       "      <td>1.00</td>\n",
       "      <td>Brent</td>\n",
       "      <td>Brent</td>\n",
       "      <td>Outer</td>\n",
       "      <td>Outer</td>\n",
       "      <td>TOID4000000030976110</td>\n",
       "    </tr>\n",
       "    <tr>\n",
       "      <th>3</th>\n",
       "      <td>4</td>\n",
       "      <td>Mobile</td>\n",
       "      <td>RoadTransport</td>\n",
       "      <td>MajorRoadEmissions</td>\n",
       "      <td>COPERT</td>\n",
       "      <td>2015</td>\n",
       "      <td>NOx</td>\n",
       "      <td>9188</td>\n",
       "      <td>1452</td>\n",
       "      <td>4000000030138369</td>\n",
       "      <td>...</td>\n",
       "      <td>TQ2084</td>\n",
       "      <td>520500</td>\n",
       "      <td>184500</td>\n",
       "      <td>0.996886</td>\n",
       "      <td>1.00</td>\n",
       "      <td>Brent</td>\n",
       "      <td>Brent</td>\n",
       "      <td>Outer</td>\n",
       "      <td>Outer</td>\n",
       "      <td>TOID4000000030138369</td>\n",
       "    </tr>\n",
       "    <tr>\n",
       "      <th>4</th>\n",
       "      <td>5</td>\n",
       "      <td>Mobile</td>\n",
       "      <td>RoadTransport</td>\n",
       "      <td>MajorRoadEmissions</td>\n",
       "      <td>COPERT</td>\n",
       "      <td>2015</td>\n",
       "      <td>NOx</td>\n",
       "      <td>9358</td>\n",
       "      <td>2824</td>\n",
       "      <td>4000000030702967</td>\n",
       "      <td>...</td>\n",
       "      <td>TQ1883</td>\n",
       "      <td>518500</td>\n",
       "      <td>183500</td>\n",
       "      <td>0.791536</td>\n",
       "      <td>0.79</td>\n",
       "      <td>Brent</td>\n",
       "      <td>Brent</td>\n",
       "      <td>Outer</td>\n",
       "      <td>Outer</td>\n",
       "      <td>TOID4000000030702967</td>\n",
       "    </tr>\n",
       "  </tbody>\n",
       "</table>\n",
       "<p>5 rows × 35 columns</p>\n",
       "</div>"
      ],
      "text/plain": [
       "   Unnamed: 0   Class         Sector              Source Emissions  Year  \\\n",
       "0           1  Mobile  RoadTransport  MajorRoadEmissions    COPERT  2015   \n",
       "1           2  Mobile  RoadTransport  MajorRoadEmissions    COPERT  2015   \n",
       "2           3  Mobile  RoadTransport  MajorRoadEmissions    COPERT  2015   \n",
       "3           4  Mobile  RoadTransport  MajorRoadEmissions    COPERT  2015   \n",
       "4           5  Mobile  RoadTransport  MajorRoadEmissions    COPERT  2015   \n",
       "\n",
       "  Pollutant  GRID_ID  GRID_ExactCut_ID   FeatureClass_ID  \\\n",
       "0       NOx     9362              2828  4000000030329011   \n",
       "1       NOx     9364              2830  4000000030455270   \n",
       "2       NOx     9191               772  4000000030976110   \n",
       "3       NOx     9188              1452  4000000030138369   \n",
       "4       NOx     9358              2824  4000000030702967   \n",
       "\n",
       "           ...          REFERENCES_  X_COORD  Y_COORD  GRID_ExactCut_Area  \\\n",
       "0          ...               TQ2283   522500   183500            0.996657   \n",
       "1          ...               TQ2483   524500   183500            0.955921   \n",
       "2          ...               TQ2384   523500   184500            0.996860   \n",
       "3          ...               TQ2084   520500   184500            0.996886   \n",
       "4          ...               TQ1883   518500   183500            0.791536   \n",
       "\n",
       "   GRID_ExactCut_AreaRound  BoroughName_GRID  BoroughName_ExactCut  \\\n",
       "0                     0.99             Brent                 Brent   \n",
       "1                     0.96             Brent                 Brent   \n",
       "2                     1.00             Brent                 Brent   \n",
       "3                     1.00             Brent                 Brent   \n",
       "4                     0.79             Brent                 Brent   \n",
       "\n",
       "   Location_GRID  Location_ExactCut     FeatureClass_ID_2  \n",
       "0          Outer              Outer  TOID4000000030329011  \n",
       "1          Outer              Outer  TOID4000000030455270  \n",
       "2          Outer              Outer  TOID4000000030976110  \n",
       "3          Outer              Outer  TOID4000000030138369  \n",
       "4          Outer              Outer  TOID4000000030702967  \n",
       "\n",
       "[5 rows x 35 columns]"
      ]
     },
     "execution_count": 34,
     "metadata": {},
     "output_type": "execute_result"
    }
   ],
   "source": [
    "nox15.head()"
   ]
  },
  {
   "cell_type": "code",
   "execution_count": 40,
   "metadata": {
    "collapsed": false
   },
   "outputs": [
    {
     "data": {
      "text/plain": [
       "38"
      ]
     },
     "execution_count": 40,
     "metadata": {},
     "output_type": "execute_result"
    }
   ],
   "source": [
    "len(nox15.REFERENCES_[nox15.REFERENCES_=='TL1203'])"
   ]
  },
  {
   "cell_type": "code",
   "execution_count": 15,
   "metadata": {
    "collapsed": false
   },
   "outputs": [
    {
     "data": {
      "text/html": [
       "<div>\n",
       "<table border=\"1\" class=\"dataframe\">\n",
       "  <thead>\n",
       "    <tr style=\"text-align: right;\">\n",
       "      <th></th>\n",
       "      <th>Year</th>\n",
       "      <th>CP</th>\n",
       "      <th>Region</th>\n",
       "      <th>LocalAuthority</th>\n",
       "      <th>Road</th>\n",
       "      <th>RoadCategory</th>\n",
       "      <th>Easting</th>\n",
       "      <th>Northing</th>\n",
       "      <th>StartJunction</th>\n",
       "      <th>EndJunction</th>\n",
       "      <th>...</th>\n",
       "      <th>BusesCoaches</th>\n",
       "      <th>LightGoodsVehicles</th>\n",
       "      <th>V2AxleRigidHGV</th>\n",
       "      <th>V3AxleRigidHGV</th>\n",
       "      <th>V4or5AxleRigidHGV</th>\n",
       "      <th>V3or4AxleArticHGV</th>\n",
       "      <th>V5AxleArticHGV</th>\n",
       "      <th>V6orMoreAxleArticHGV</th>\n",
       "      <th>AllHGVs</th>\n",
       "      <th>AllMotorVehicles</th>\n",
       "    </tr>\n",
       "  </thead>\n",
       "  <tbody>\n",
       "    <tr>\n",
       "      <th>0</th>\n",
       "      <td>2000</td>\n",
       "      <td>6000</td>\n",
       "      <td>London</td>\n",
       "      <td>Barnet</td>\n",
       "      <td>M1</td>\n",
       "      <td>TM</td>\n",
       "      <td>522170</td>\n",
       "      <td>189100</td>\n",
       "      <td>A406</td>\n",
       "      <td>M1 spur</td>\n",
       "      <td>...</td>\n",
       "      <td>433</td>\n",
       "      <td>5416</td>\n",
       "      <td>948</td>\n",
       "      <td>85</td>\n",
       "      <td>238</td>\n",
       "      <td>259</td>\n",
       "      <td>551</td>\n",
       "      <td>348</td>\n",
       "      <td>2428</td>\n",
       "      <td>38983</td>\n",
       "    </tr>\n",
       "    <tr>\n",
       "      <th>1</th>\n",
       "      <td>2000</td>\n",
       "      <td>6001</td>\n",
       "      <td>London</td>\n",
       "      <td>Barnet</td>\n",
       "      <td>M1</td>\n",
       "      <td>TM</td>\n",
       "      <td>520150</td>\n",
       "      <td>194300</td>\n",
       "      <td>2</td>\n",
       "      <td>4</td>\n",
       "      <td>...</td>\n",
       "      <td>1118</td>\n",
       "      <td>12696</td>\n",
       "      <td>2326</td>\n",
       "      <td>217</td>\n",
       "      <td>609</td>\n",
       "      <td>575</td>\n",
       "      <td>938</td>\n",
       "      <td>696</td>\n",
       "      <td>5361</td>\n",
       "      <td>99610</td>\n",
       "    </tr>\n",
       "    <tr>\n",
       "      <th>2</th>\n",
       "      <td>2000</td>\n",
       "      <td>6013</td>\n",
       "      <td>London</td>\n",
       "      <td>Hillingdon</td>\n",
       "      <td>M4</td>\n",
       "      <td>TM</td>\n",
       "      <td>508900</td>\n",
       "      <td>178400</td>\n",
       "      <td>4</td>\n",
       "      <td>3</td>\n",
       "      <td>...</td>\n",
       "      <td>1822</td>\n",
       "      <td>6985</td>\n",
       "      <td>3074</td>\n",
       "      <td>237</td>\n",
       "      <td>399</td>\n",
       "      <td>319</td>\n",
       "      <td>690</td>\n",
       "      <td>428</td>\n",
       "      <td>5147</td>\n",
       "      <td>90253</td>\n",
       "    </tr>\n",
       "    <tr>\n",
       "      <th>3</th>\n",
       "      <td>2000</td>\n",
       "      <td>6071</td>\n",
       "      <td>London</td>\n",
       "      <td>Tower Hamlets</td>\n",
       "      <td>A12</td>\n",
       "      <td>PU</td>\n",
       "      <td>538180</td>\n",
       "      <td>181800</td>\n",
       "      <td>A13</td>\n",
       "      <td>A11</td>\n",
       "      <td>...</td>\n",
       "      <td>238</td>\n",
       "      <td>5462</td>\n",
       "      <td>1069</td>\n",
       "      <td>161</td>\n",
       "      <td>335</td>\n",
       "      <td>80</td>\n",
       "      <td>248</td>\n",
       "      <td>101</td>\n",
       "      <td>1995</td>\n",
       "      <td>35394</td>\n",
       "    </tr>\n",
       "    <tr>\n",
       "      <th>4</th>\n",
       "      <td>2000</td>\n",
       "      <td>6075</td>\n",
       "      <td>London</td>\n",
       "      <td>Islington</td>\n",
       "      <td>A1</td>\n",
       "      <td>PU</td>\n",
       "      <td>530600</td>\n",
       "      <td>185870</td>\n",
       "      <td>A503 Camden Road</td>\n",
       "      <td>A503 Seven Sisters/Parkhurst Road</td>\n",
       "      <td>...</td>\n",
       "      <td>38</td>\n",
       "      <td>244</td>\n",
       "      <td>48</td>\n",
       "      <td>6</td>\n",
       "      <td>4</td>\n",
       "      <td>1</td>\n",
       "      <td>2</td>\n",
       "      <td>1</td>\n",
       "      <td>63</td>\n",
       "      <td>1915</td>\n",
       "    </tr>\n",
       "  </tbody>\n",
       "</table>\n",
       "<p>5 rows × 24 columns</p>\n",
       "</div>"
      ],
      "text/plain": [
       "   Year    CP  Region LocalAuthority Road RoadCategory  Easting  Northing  \\\n",
       "0  2000  6000  London         Barnet   M1           TM   522170    189100   \n",
       "1  2000  6001  London         Barnet   M1           TM   520150    194300   \n",
       "2  2000  6013  London     Hillingdon   M4           TM   508900    178400   \n",
       "3  2000  6071  London  Tower Hamlets  A12           PU   538180    181800   \n",
       "4  2000  6075  London      Islington   A1           PU   530600    185870   \n",
       "\n",
       "      StartJunction                        EndJunction        ...         \\\n",
       "0              A406                            M1 spur        ...          \n",
       "1                 2                                  4        ...          \n",
       "2                 4                                  3        ...          \n",
       "3               A13                                A11        ...          \n",
       "4  A503 Camden Road  A503 Seven Sisters/Parkhurst Road        ...          \n",
       "\n",
       "   BusesCoaches  LightGoodsVehicles  V2AxleRigidHGV  V3AxleRigidHGV  \\\n",
       "0           433                5416             948              85   \n",
       "1          1118               12696            2326             217   \n",
       "2          1822                6985            3074             237   \n",
       "3           238                5462            1069             161   \n",
       "4            38                 244              48               6   \n",
       "\n",
       "   V4or5AxleRigidHGV  V3or4AxleArticHGV  V5AxleArticHGV  V6orMoreAxleArticHGV  \\\n",
       "0                238                259             551                   348   \n",
       "1                609                575             938                   696   \n",
       "2                399                319             690                   428   \n",
       "3                335                 80             248                   101   \n",
       "4                  4                  1               2                     1   \n",
       "\n",
       "   AllHGVs  AllMotorVehicles  \n",
       "0     2428             38983  \n",
       "1     5361             99610  \n",
       "2     5147             90253  \n",
       "3     1995             35394  \n",
       "4       63              1915  \n",
       "\n",
       "[5 rows x 24 columns]"
      ]
     },
     "execution_count": 15,
     "metadata": {},
     "output_type": "execute_result"
    }
   ],
   "source": [
    "carv.head()"
   ]
  },
  {
   "cell_type": "code",
   "execution_count": 35,
   "metadata": {
    "collapsed": false
   },
   "outputs": [
    {
     "data": {
      "text/plain": [
       "73602"
      ]
     },
     "execution_count": 35,
     "metadata": {},
     "output_type": "execute_result"
    }
   ],
   "source": [
    "len(nox15.Location_ExactCut[nox15.Location_ExactCut!='NonGLA'])\n"
   ]
  },
  {
   "cell_type": "code",
   "execution_count": null,
   "metadata": {
    "collapsed": true
   },
   "outputs": [],
   "source": []
  }
 ],
 "metadata": {
  "kernelspec": {
   "display_name": "Python 2",
   "language": "python",
   "name": "python2"
  },
  "language_info": {
   "codemirror_mode": {
    "name": "ipython",
    "version": 2
   },
   "file_extension": ".py",
   "mimetype": "text/x-python",
   "name": "python",
   "nbconvert_exporter": "python",
   "pygments_lexer": "ipython2",
   "version": "2.7.10"
  }
 },
 "nbformat": 4,
 "nbformat_minor": 0
}
